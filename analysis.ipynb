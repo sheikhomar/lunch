{
 "cells": [
  {
   "cell_type": "markdown",
   "metadata": {},
   "source": [
    "# Analyser"
   ]
  },
  {
   "cell_type": "code",
   "execution_count": 1,
   "metadata": {},
   "outputs": [],
   "source": [
    "import numpy as np\n",
    "import pandas as pd\n",
    "import matplotlib.pyplot as plt\n",
    "import seaborn as sns\n",
    "from sklearn.preprocessing import StandardScaler"
   ]
  },
  {
   "cell_type": "code",
   "execution_count": 2,
   "metadata": {},
   "outputs": [],
   "source": [
    "def plot_target_histogram(df: pd.DataFrame, ax=None):\n",
    "    if ax is None:\n",
    "        fig, ax = plt.subplots(figsize=(7, 4))\n",
    "    sns.countplot(df['Churned'], ax=ax)\n",
    "    ax.set_xticklabels(['Kunde', 'Forladt'])\n",
    "    ax.set_ylabel('Antal')\n",
    "    ax.set_xlabel('')\n",
    "    n_non_churned = len(df[df['Churned'] == 0])\n",
    "    n_churned = len(df[df['Churned'] == 1])\n",
    "    # ax.set_ylim([0, max(n_non_churned, n_churned) + 20])\n",
    "\n",
    "    customer_counts = np.array(df.groupby('Churned')['UserId'].count())\n",
    "    total_count = customer_counts.sum()\n",
    "    customer_pct = (customer_counts / total_count) * 100\n",
    "\n",
    "    for i in range(len(customer_pct)):\n",
    "        p = ax.patches[i]\n",
    "        percentage = '{:.2f}%'.format(customer_pct[i])\n",
    "        x = p.get_x()\n",
    "        y = np.nan_to_num(p.get_y() + p.get_height())\n",
    "        ax.annotate(percentage, (x, y), fontsize=12)\n",
    "    return ax\n",
    "        \n",
    "def get_annotation_data(df: pd.DataFrame, feature_name: str):\n",
    "    customer_counts_per_products = list(df[df['Churned'] == 0].groupby(feature_name)['UserId'].count())\n",
    "    if feature_name == 'NumOfProducts':\n",
    "        customer_counts_per_products += [0]\n",
    "    noncustomer_counts_per_products = list(df[df['Churned'] == 1].groupby(feature_name)['UserId'].count())\n",
    "    customer_counts = np.array(customer_counts_per_products)\n",
    "    noncustomer_counts = np.array(noncustomer_counts_per_products)\n",
    "    total_counts = customer_counts + noncustomer_counts\n",
    "    customer_pct = customer_counts / total_counts\n",
    "    noncustomer_pct = noncustomer_counts / total_counts\n",
    "    return np.append(customer_pct, noncustomer_pct)\n",
    "\n",
    "def plot_histogram(df: pd.DataFrame, feature_name: str, ax=None, annotate: bool = True):\n",
    "    if ax is None:\n",
    "        fig, ax = plt.subplots(figsize=(12, 6))\n",
    "    sns.countplot(x=feature_name, hue='Churned', data=df, ax=ax)\n",
    "\n",
    "    if annotate:\n",
    "        annotation_data = get_annotation_data(df, feature_name)\n",
    "        for i in range(len(annotation_data)):\n",
    "            p = ax.patches[i]\n",
    "            percentage = '{:.0f}%'.format(100 * annotation_data[i])\n",
    "            x = p.get_x()\n",
    "            y = np.nan_to_num(p.get_y() + p.get_height())\n",
    "            ax.annotate(percentage, (x, y), fontsize=12)  \n",
    "\n",
    "def plot_index_vs_value(df: pd.DataFrame, feature_name: str, target_name: str = None):\n",
    "    \"\"\"Visualisation for determining repeated values.\n",
    "    Horisontal line segments indicate repeated values.\n",
    "    Vertical line segments indicate data is not properly shuffled.\n",
    "    \"\"\"\n",
    "    fig, ax = plt.subplots(figsize=(12, 6))\n",
    "    if target_name is None:\n",
    "        ax.plot(df[feature_name], '.')\n",
    "    else:\n",
    "        x = range(len(df[feature_name]))\n",
    "        y = df[feature_name]\n",
    "        ax.scatter(x=list(x), y=list(y), c=df[target_name], s=3, cmap='cool', alpha=0.5)\n",
    "    ax.set_ylabel(feature_name)\n",
    "    ax.set_xlabel('Index')\n",
    "    \n",
    "def plot_dual_histogram(df: pd.DataFrame, feature_name: str, bins=None, ax=None):\n",
    "    if ax is None:\n",
    "        fig, ax = plt.subplots(figsize=(12, 5))\n",
    "    df_unchurned = df[df['Churned'] == 0][feature_name]\n",
    "    df_churned = df[df['Churned'] == 1][feature_name]\n",
    "    ax.hist(df_unchurned, label='Kunde', alpha=0.5, bins=bins, color=plot_colors[0])\n",
    "    ax.hist(df_churned, label='Forladt', alpha=0.5, bins=bins, color=plot_colors[1])\n",
    "    ax.set_xlabel(feature_name)\n",
    "    \n",
    "def get_counts(df: pd.DataFrame, feature_name: str, style_format: str = '{:,.1f}'):\n",
    "    df_counts = pd.DataFrame(df[feature_name].value_counts())\n",
    "    # df_counts['Proportion'] = df_counts[feature_name].apply(lambda x: '{:.1f} %'.format(x / df_counts[feature_name].sum() * 100))\n",
    "    df_counts['Proportion'] = df_counts[feature_name].apply(lambda x: x / df_counts[feature_name].sum() * 100)\n",
    "    return df_counts.T.style.format(style_format)\n"
   ]
  },
  {
   "cell_type": "code",
   "execution_count": 3,
   "metadata": {},
   "outputs": [],
   "source": [
    "plot_colors = sns.color_palette()"
   ]
  },
  {
   "cell_type": "markdown",
   "metadata": {},
   "source": [
    "## Behov"
   ]
  },
  {
   "cell_type": "markdown",
   "metadata": {},
   "source": [
    "- Det er dyrt at få kunder i butikken så det gælder om at holde fast i de kunder man har.\n",
    "- Der er et ønske om at forudsige om en kunde er på vej væk så man kan gøre noget aktivt for at disse kunder\n",
    "- Det er vigtigt at forstå om der er mønster i dataene så kan.\n",
    "- Der er et ønske om at forudsige om en kunde er på vej til at ud af døren. "
   ]
  },
  {
   "cell_type": "markdown",
   "metadata": {},
   "source": [
    "## Indlæsning af data"
   ]
  },
  {
   "cell_type": "markdown",
   "metadata": {},
   "source": [
    "Mål med at kigge på dataene er:\n",
    "- Håndter manglende værdier\n",
    "- Handter underlige værdier/outliers\n",
    "- Hvordan hænger de forskellige features sammen?\n",
    "- Er data balanceret?"
   ]
  },
  {
   "cell_type": "markdown",
   "metadata": {},
   "source": [
    "Det lader til at de data som jeg har fået er fra Kaggle: https://www.kaggle.com/adammaus/predicting-churn-for-bank-customers"
   ]
  },
  {
   "cell_type": "markdown",
   "metadata": {},
   "source": [
    "Filen er ikke så stor så vi kan sagtens hente al data ind i hukommelsen vha. Pandas."
   ]
  },
  {
   "cell_type": "markdown",
   "metadata": {},
   "source": [
    "- Overvej hvad vil man gøre når data er for stor.\n",
    "   - Pandas kan sagtens håndtere data som fylder omkring 1GB\n",
    "   - Hvis det fylder mere skal kigge på hukommelsesforbruget.\n",
    "     - Man kan bruge `pd.read_csv(.., chunksize=100000)` - antallet af rækker der skal processeres ad gangen. Husk at man får ikke end DataFrame\n",
    "     - Brug andre data typer for kolonnerne. Færre bits kræver mindre RAM."
   ]
  },
  {
   "cell_type": "code",
   "execution_count": 4,
   "metadata": {},
   "outputs": [],
   "source": [
    "df_data = pd.read_csv('data.csv', index_col=0) # Default Pandas starte sit index på 0"
   ]
  },
  {
   "cell_type": "markdown",
   "metadata": {},
   "source": [
    "## Overblik"
   ]
  },
  {
   "cell_type": "code",
   "execution_count": 5,
   "metadata": {},
   "outputs": [
    {
     "data": {
      "text/html": [
       "<div>\n",
       "<style scoped>\n",
       "    .dataframe tbody tr th:only-of-type {\n",
       "        vertical-align: middle;\n",
       "    }\n",
       "\n",
       "    .dataframe tbody tr th {\n",
       "        vertical-align: top;\n",
       "    }\n",
       "\n",
       "    .dataframe thead th {\n",
       "        text-align: right;\n",
       "    }\n",
       "</style>\n",
       "<table border=\"1\" class=\"dataframe\">\n",
       "  <thead>\n",
       "    <tr style=\"text-align: right;\">\n",
       "      <th></th>\n",
       "      <th>UserId</th>\n",
       "      <th>LastName</th>\n",
       "      <th>CreditScore</th>\n",
       "      <th>Geography</th>\n",
       "      <th>Gender</th>\n",
       "      <th>Age</th>\n",
       "      <th>Tenure</th>\n",
       "      <th>Balance</th>\n",
       "      <th>NumOfProducts</th>\n",
       "      <th>HasCreditCard</th>\n",
       "      <th>IsActiveMember</th>\n",
       "      <th>Salary</th>\n",
       "      <th>Churned</th>\n",
       "    </tr>\n",
       "    <tr>\n",
       "      <th>Index</th>\n",
       "      <th></th>\n",
       "      <th></th>\n",
       "      <th></th>\n",
       "      <th></th>\n",
       "      <th></th>\n",
       "      <th></th>\n",
       "      <th></th>\n",
       "      <th></th>\n",
       "      <th></th>\n",
       "      <th></th>\n",
       "      <th></th>\n",
       "      <th></th>\n",
       "      <th></th>\n",
       "    </tr>\n",
       "  </thead>\n",
       "  <tbody>\n",
       "    <tr>\n",
       "      <th>1</th>\n",
       "      <td>15634602</td>\n",
       "      <td>Hargrave</td>\n",
       "      <td>619</td>\n",
       "      <td>France</td>\n",
       "      <td>Female</td>\n",
       "      <td>42</td>\n",
       "      <td>2</td>\n",
       "      <td>0.00</td>\n",
       "      <td>1</td>\n",
       "      <td>1</td>\n",
       "      <td>1</td>\n",
       "      <td>101348.88</td>\n",
       "      <td>1</td>\n",
       "    </tr>\n",
       "    <tr>\n",
       "      <th>2</th>\n",
       "      <td>15647311</td>\n",
       "      <td>Hill</td>\n",
       "      <td>608</td>\n",
       "      <td>Spain</td>\n",
       "      <td>Female</td>\n",
       "      <td>41</td>\n",
       "      <td>1</td>\n",
       "      <td>83807.86</td>\n",
       "      <td>1</td>\n",
       "      <td>0</td>\n",
       "      <td>1</td>\n",
       "      <td>112542.58</td>\n",
       "      <td>0</td>\n",
       "    </tr>\n",
       "    <tr>\n",
       "      <th>3</th>\n",
       "      <td>15619304</td>\n",
       "      <td>Onio</td>\n",
       "      <td>502</td>\n",
       "      <td>France</td>\n",
       "      <td>Female</td>\n",
       "      <td>42</td>\n",
       "      <td>8</td>\n",
       "      <td>159660.80</td>\n",
       "      <td>3</td>\n",
       "      <td>1</td>\n",
       "      <td>0</td>\n",
       "      <td>113931.57</td>\n",
       "      <td>1</td>\n",
       "    </tr>\n",
       "    <tr>\n",
       "      <th>4</th>\n",
       "      <td>15701354</td>\n",
       "      <td>Boni</td>\n",
       "      <td>699</td>\n",
       "      <td>France</td>\n",
       "      <td>Female</td>\n",
       "      <td>39</td>\n",
       "      <td>1</td>\n",
       "      <td>0.00</td>\n",
       "      <td>2</td>\n",
       "      <td>0</td>\n",
       "      <td>0</td>\n",
       "      <td>93826.63</td>\n",
       "      <td>0</td>\n",
       "    </tr>\n",
       "    <tr>\n",
       "      <th>5</th>\n",
       "      <td>15737888</td>\n",
       "      <td>Mitchell</td>\n",
       "      <td>850</td>\n",
       "      <td>Spain</td>\n",
       "      <td>Female</td>\n",
       "      <td>43</td>\n",
       "      <td>2</td>\n",
       "      <td>125510.82</td>\n",
       "      <td>1</td>\n",
       "      <td>1</td>\n",
       "      <td>1</td>\n",
       "      <td>79084.10</td>\n",
       "      <td>0</td>\n",
       "    </tr>\n",
       "  </tbody>\n",
       "</table>\n",
       "</div>"
      ],
      "text/plain": [
       "         UserId  LastName  CreditScore Geography  Gender  Age  Tenure  \\\n",
       "Index                                                                   \n",
       "1      15634602  Hargrave          619    France  Female   42       2   \n",
       "2      15647311      Hill          608     Spain  Female   41       1   \n",
       "3      15619304      Onio          502    France  Female   42       8   \n",
       "4      15701354      Boni          699    France  Female   39       1   \n",
       "5      15737888  Mitchell          850     Spain  Female   43       2   \n",
       "\n",
       "         Balance  NumOfProducts  HasCreditCard  IsActiveMember     Salary  \\\n",
       "Index                                                                       \n",
       "1           0.00              1              1               1  101348.88   \n",
       "2       83807.86              1              0               1  112542.58   \n",
       "3      159660.80              3              1               0  113931.57   \n",
       "4           0.00              2              0               0   93826.63   \n",
       "5      125510.82              1              1               1   79084.10   \n",
       "\n",
       "       Churned  \n",
       "Index           \n",
       "1            1  \n",
       "2            0  \n",
       "3            1  \n",
       "4            0  \n",
       "5            0  "
      ]
     },
     "execution_count": 5,
     "metadata": {},
     "output_type": "execute_result"
    }
   ],
   "source": [
    "df_data.head()"
   ]
  },
  {
   "cell_type": "code",
   "execution_count": 6,
   "metadata": {},
   "outputs": [
    {
     "data": {
      "text/plain": [
       "(10000, 13)"
      ]
     },
     "execution_count": 6,
     "metadata": {},
     "output_type": "execute_result"
    }
   ],
   "source": [
    "df_data.shape"
   ]
  },
  {
   "cell_type": "markdown",
   "metadata": {},
   "source": [
    "Hvor mange unikke kunder?"
   ]
  },
  {
   "cell_type": "code",
   "execution_count": 7,
   "metadata": {},
   "outputs": [
    {
     "data": {
      "text/plain": [
       "10000"
      ]
     },
     "execution_count": 7,
     "metadata": {},
     "output_type": "execute_result"
    }
   ],
   "source": [
    "df_data['UserId'].nunique()"
   ]
  },
  {
   "cell_type": "markdown",
   "metadata": {},
   "source": [
    "## Data typer"
   ]
  },
  {
   "cell_type": "code",
   "execution_count": 8,
   "metadata": {},
   "outputs": [
    {
     "data": {
      "text/plain": [
       "UserId              int64\n",
       "LastName           object\n",
       "CreditScore         int64\n",
       "Geography          object\n",
       "Gender             object\n",
       "Age                 int64\n",
       "Tenure              int64\n",
       "Balance           float64\n",
       "NumOfProducts       int64\n",
       "HasCreditCard       int64\n",
       "IsActiveMember      int64\n",
       "Salary            float64\n",
       "Churned             int64\n",
       "dtype: object"
      ]
     },
     "execution_count": 8,
     "metadata": {},
     "output_type": "execute_result"
    }
   ],
   "source": [
    "df_data.dtypes"
   ]
  },
  {
   "cell_type": "code",
   "execution_count": 9,
   "metadata": {},
   "outputs": [],
   "source": [
    "categorical_features = set(['Geography', 'Gender'])\n",
    "boolean_features = set(['HasCreditCard', 'IsActiveMember'])\n",
    "continuous_features = set(['CreditScore', 'Age', 'Tenure', 'Balance', 'Salary', 'NumOfProducts'])"
   ]
  },
  {
   "cell_type": "markdown",
   "metadata": {},
   "source": [
    "## Manglede værdier"
   ]
  },
  {
   "cell_type": "markdown",
   "metadata": {},
   "source": [
    "Manglende værdier er tit et problem når man sidder med data i den virkelig verden."
   ]
  },
  {
   "cell_type": "code",
   "execution_count": 10,
   "metadata": {},
   "outputs": [],
   "source": [
    "df_missing = pd.DataFrame(df_data.isnull().sum(), columns=['No. of missing values']).T"
   ]
  },
  {
   "cell_type": "code",
   "execution_count": 11,
   "metadata": {},
   "outputs": [
    {
     "data": {
      "text/html": [
       "<div>\n",
       "<style scoped>\n",
       "    .dataframe tbody tr th:only-of-type {\n",
       "        vertical-align: middle;\n",
       "    }\n",
       "\n",
       "    .dataframe tbody tr th {\n",
       "        vertical-align: top;\n",
       "    }\n",
       "\n",
       "    .dataframe thead th {\n",
       "        text-align: right;\n",
       "    }\n",
       "</style>\n",
       "<table border=\"1\" class=\"dataframe\">\n",
       "  <thead>\n",
       "    <tr style=\"text-align: right;\">\n",
       "      <th></th>\n",
       "      <th>UserId</th>\n",
       "      <th>LastName</th>\n",
       "      <th>CreditScore</th>\n",
       "      <th>Geography</th>\n",
       "      <th>Gender</th>\n",
       "      <th>Age</th>\n",
       "      <th>Tenure</th>\n",
       "      <th>Balance</th>\n",
       "      <th>NumOfProducts</th>\n",
       "      <th>HasCreditCard</th>\n",
       "      <th>IsActiveMember</th>\n",
       "      <th>Salary</th>\n",
       "      <th>Churned</th>\n",
       "    </tr>\n",
       "  </thead>\n",
       "  <tbody>\n",
       "    <tr>\n",
       "      <th>No. of missing values</th>\n",
       "      <td>0</td>\n",
       "      <td>0</td>\n",
       "      <td>0</td>\n",
       "      <td>0</td>\n",
       "      <td>0</td>\n",
       "      <td>0</td>\n",
       "      <td>0</td>\n",
       "      <td>0</td>\n",
       "      <td>0</td>\n",
       "      <td>0</td>\n",
       "      <td>0</td>\n",
       "      <td>0</td>\n",
       "      <td>0</td>\n",
       "    </tr>\n",
       "  </tbody>\n",
       "</table>\n",
       "</div>"
      ],
      "text/plain": [
       "                       UserId  LastName  CreditScore  Geography  Gender  Age  \\\n",
       "No. of missing values       0         0            0          0       0    0   \n",
       "\n",
       "                       Tenure  Balance  NumOfProducts  HasCreditCard  \\\n",
       "No. of missing values       0        0              0              0   \n",
       "\n",
       "                       IsActiveMember  Salary  Churned  \n",
       "No. of missing values               0       0        0  "
      ]
     },
     "execution_count": 11,
     "metadata": {},
     "output_type": "execute_result"
    }
   ],
   "source": [
    "df_missing"
   ]
  },
  {
   "cell_type": "markdown",
   "metadata": {},
   "source": [
    "Umiddelbare tanker:\n",
    "- Havde forventet at der var nogle manglede værdier. Data virker renset."
   ]
  },
  {
   "cell_type": "markdown",
   "metadata": {},
   "source": [
    "Ved manglende værdier har man flg. muligheder:\n",
    "\n",
    "- Slette dem med `df_data.dropna(axis=0, thresh=5)`. Vær forsigtig. Kig evt. på andelen af manglende værdier.\n",
    "- Udfylde dem med f.eks.\n",
    "  - Gennemsnitsværdi `df_data['Salary'].fillna(value=df_data['Salary'].mean())`. Godt til kontinuerlig data uden outliers.\n",
    "  - Medianen: Godt kontinuerlig data med outliers.\n",
    "  - Mode: Flest forekommmende værdi. Godt for kategorisk kolonne.\n",
    "\n",
    "\n",
    "\n",
    "Igen man skal være forsigtigt med at udfylde data med statistikker fordi disse påvirker korrelationen mellem to variabler.\n",
    "\n",
    "> Please note that Mean, Median and Mode imputation diminishes any correlations involving the variable(s) that are imputed. This is because we assume that there is no relationship between the imputed variable and any other measured variables. Thus, those imputations have some attractive properties for univariate analysis but become problematic for multivariate analysis. [https://medium.com/@george.drakos62/handling-missing-values-in-machine-learning-part-1-dda69d4f88ca]\n",
    "\n",
    "> Although imputing missing values by using the mean is a popular imputation technique, there are serious problems with mean imputation. The variance of a mean-imputed variable is always biased downward from the variance of the un-imputed variable. This bias affects standard errors, confidence intervals, and other inferential statistics. Experts agree that mean imputation should be avoided when possible (Allison (2009), Horton and Kleinman (2007)). [https://blogs.sas.com/content/iml/2017/12/06/problems-mean-imputation.html]"
   ]
  },
  {
   "cell_type": "markdown",
   "metadata": {},
   "source": [
    "## Kontinuerte features"
   ]
  },
  {
   "cell_type": "markdown",
   "metadata": {},
   "source": [
    "Mål: Undersøger om der er underlige værdier i dataene. Samtidig få en fornemmelse af om værdierne giver mening."
   ]
  },
  {
   "cell_type": "code",
   "execution_count": 12,
   "metadata": {},
   "outputs": [
    {
     "data": {
      "text/html": [
       "<div>\n",
       "<style scoped>\n",
       "    .dataframe tbody tr th:only-of-type {\n",
       "        vertical-align: middle;\n",
       "    }\n",
       "\n",
       "    .dataframe tbody tr th {\n",
       "        vertical-align: top;\n",
       "    }\n",
       "\n",
       "    .dataframe thead th {\n",
       "        text-align: right;\n",
       "    }\n",
       "</style>\n",
       "<table border=\"1\" class=\"dataframe\">\n",
       "  <thead>\n",
       "    <tr style=\"text-align: right;\">\n",
       "      <th></th>\n",
       "      <th>Age</th>\n",
       "      <th>Salary</th>\n",
       "      <th>NumOfProducts</th>\n",
       "      <th>CreditScore</th>\n",
       "      <th>Tenure</th>\n",
       "      <th>Balance</th>\n",
       "    </tr>\n",
       "  </thead>\n",
       "  <tbody>\n",
       "    <tr>\n",
       "      <th>count</th>\n",
       "      <td>10000.000000</td>\n",
       "      <td>10000.000000</td>\n",
       "      <td>10000.000000</td>\n",
       "      <td>10000.000000</td>\n",
       "      <td>10000.000000</td>\n",
       "      <td>10000.000000</td>\n",
       "    </tr>\n",
       "    <tr>\n",
       "      <th>mean</th>\n",
       "      <td>38.921800</td>\n",
       "      <td>100090.239881</td>\n",
       "      <td>1.530200</td>\n",
       "      <td>650.528800</td>\n",
       "      <td>5.012800</td>\n",
       "      <td>76485.889288</td>\n",
       "    </tr>\n",
       "    <tr>\n",
       "      <th>std</th>\n",
       "      <td>10.487806</td>\n",
       "      <td>57510.492818</td>\n",
       "      <td>0.581654</td>\n",
       "      <td>96.653299</td>\n",
       "      <td>2.892174</td>\n",
       "      <td>62397.405202</td>\n",
       "    </tr>\n",
       "    <tr>\n",
       "      <th>min</th>\n",
       "      <td>18.000000</td>\n",
       "      <td>11.580000</td>\n",
       "      <td>1.000000</td>\n",
       "      <td>350.000000</td>\n",
       "      <td>0.000000</td>\n",
       "      <td>0.000000</td>\n",
       "    </tr>\n",
       "    <tr>\n",
       "      <th>25%</th>\n",
       "      <td>32.000000</td>\n",
       "      <td>51002.110000</td>\n",
       "      <td>1.000000</td>\n",
       "      <td>584.000000</td>\n",
       "      <td>3.000000</td>\n",
       "      <td>0.000000</td>\n",
       "    </tr>\n",
       "    <tr>\n",
       "      <th>50%</th>\n",
       "      <td>37.000000</td>\n",
       "      <td>100193.915000</td>\n",
       "      <td>1.000000</td>\n",
       "      <td>652.000000</td>\n",
       "      <td>5.000000</td>\n",
       "      <td>97198.540000</td>\n",
       "    </tr>\n",
       "    <tr>\n",
       "      <th>75%</th>\n",
       "      <td>44.000000</td>\n",
       "      <td>149388.247500</td>\n",
       "      <td>2.000000</td>\n",
       "      <td>718.000000</td>\n",
       "      <td>7.000000</td>\n",
       "      <td>127644.240000</td>\n",
       "    </tr>\n",
       "    <tr>\n",
       "      <th>max</th>\n",
       "      <td>92.000000</td>\n",
       "      <td>199992.480000</td>\n",
       "      <td>4.000000</td>\n",
       "      <td>850.000000</td>\n",
       "      <td>10.000000</td>\n",
       "      <td>250898.090000</td>\n",
       "    </tr>\n",
       "  </tbody>\n",
       "</table>\n",
       "</div>"
      ],
      "text/plain": [
       "                Age         Salary  NumOfProducts   CreditScore        Tenure  \\\n",
       "count  10000.000000   10000.000000   10000.000000  10000.000000  10000.000000   \n",
       "mean      38.921800  100090.239881       1.530200    650.528800      5.012800   \n",
       "std       10.487806   57510.492818       0.581654     96.653299      2.892174   \n",
       "min       18.000000      11.580000       1.000000    350.000000      0.000000   \n",
       "25%       32.000000   51002.110000       1.000000    584.000000      3.000000   \n",
       "50%       37.000000  100193.915000       1.000000    652.000000      5.000000   \n",
       "75%       44.000000  149388.247500       2.000000    718.000000      7.000000   \n",
       "max       92.000000  199992.480000       4.000000    850.000000     10.000000   \n",
       "\n",
       "             Balance  \n",
       "count   10000.000000  \n",
       "mean    76485.889288  \n",
       "std     62397.405202  \n",
       "min         0.000000  \n",
       "25%         0.000000  \n",
       "50%     97198.540000  \n",
       "75%    127644.240000  \n",
       "max    250898.090000  "
      ]
     },
     "execution_count": 12,
     "metadata": {},
     "output_type": "execute_result"
    }
   ],
   "source": [
    "df_data[continuous_features].describe()"
   ]
  },
  {
   "cell_type": "markdown",
   "metadata": {},
   "source": [
    "Tanker:\n",
    "- **CreditScore**: Mangler information omkring denne feature. Antager data er fra et europæisk bank fordi `Geography` $\\in$ \\[ France, Spain, Germany \\]. Kan ikke finde noget info omkring dette. Interval fra 350 til 850. Passer nogenlunde med [amerikansk FICO](https://en.wikipedia.org/wiki/Credit_score) hvor credit score er fra 300 til 850.\n",
    "- **Age**: kunderne er fra 18 til 92. Ikke noget mærkeligt.\n",
    "- **Tenure**: varierer fra 0 til 10. Om det er måneder eller år er ukendt?\n",
    "- **Balance**: Antager det er EUR. 250.898 EUR virker et meget højt beløb, men det er vel ikke unormalt.\n",
    "- **NumOfProducts**: antager at dette er antallet af bankydelser som kunden har haft på det tidspunkt data er blevet udtrukket.\n",
    "- **Salary**: værdierne virker underlige. Al for pæn!"
   ]
  },
  {
   "cell_type": "markdown",
   "metadata": {},
   "source": [
    "Lad os kigge på fordelinger på enkelte features:"
   ]
  },
  {
   "cell_type": "code",
   "execution_count": 13,
   "metadata": {},
   "outputs": [
    {
     "data": {
      "image/png": "[encoded data removed]",
      "text/plain": [
       "<Figure size 1080x504 with 6 Axes>"
      ]
     },
     "metadata": {
      "needs_background": "light"
     },
     "output_type": "display_data"
    }
   ],
   "source": [
    "fig, ax = plt.subplots(2,3, figsize=(15,7))\n",
    "bins = {\n",
    "    'CreditScore': df_data['CreditScore'].max() - df_data['CreditScore'].min(),\n",
    "    'Age': df_data['Age'].max() - df_data['Age'].min(),\n",
    "    'Tenure': 22, 'Balance': 50, 'NumOfProducts': 8, 'Salary': 100 }\n",
    "\n",
    "for i in range(2):\n",
    "    for j in range(3):\n",
    "        feature = list(continuous_features)[i*3+j]\n",
    "        plot_dual_histogram(df_data, feature, bins=bins[feature], ax=ax[i][j])"
   ]
  },
  {
   "cell_type": "markdown",
   "metadata": {},
   "source": [
    "Tanker:\n",
    "- Generelt: datasættet indeholder større observationer af personer som forbliver kunder fremfor personer, der forlader banken. Vær opmærksom på ubalanceret data.\n",
    "- **Salary, Tenure**: ingen nævneværdig forskelle i disse fordelinger\n",
    "- **Credit Score**: \n",
    "  - Fordelinger ser nogenlunde ens ud.\n",
    "  - Peak ved 850. Lader til at der er en stor andel som har den højest kreditscore. \n",
    "- **Age**: \n",
    "  - Yngre kunder bliver i banken mens ældre kunder flygter. \n",
    "  - Ide til ny feature: inddel kunder i aldersgrupper så det er nemmere at adskille yngre og ændre kunder fra hinanden\n",
    "- **Balance**: \n",
    "  - Lidt underligt at kunder som har forladt banken har noget indstående. Antager at det er det beløb som tidligere kunder havde stående før de forlod banken\n",
    "  - Andelen af kunder med formuer som forlader banken er større end dem med 0 i indstående.\n",
    "  - Ide til ny feature: boolean feature om man har penge stående i banken\n",
    "- **NumOfProducts**:\n",
    "  - De fleste kunder har 1 eller 2 produkter.\n",
    "  - Få kunder med 3 produkter ifht. ikke-kunder.\n",
    "  - Ingen kunder med 4 produkter!\n",
    "  - Ide til nye features: betragt denne feature som en kategorisk feature da det ser ud som om at der meget information i denne kolonne."
   ]
  },
  {
   "cell_type": "markdown",
   "metadata": {},
   "source": [
    "### Kredit Score"
   ]
  },
  {
   "cell_type": "markdown",
   "metadata": {},
   "source": [
    "Hypotese: fordeling for kunder med CreditScore 850 er anderledes end dem under 850."
   ]
  },
  {
   "cell_type": "code",
   "execution_count": 14,
   "metadata": {},
   "outputs": [
    {
     "data": {
      "image/png": "[encoded data removed]",
      "text/plain": [
       "<Figure size 504x216 with 1 Axes>"
      ]
     },
     "metadata": {
      "needs_background": "light"
     },
     "output_type": "display_data"
    }
   ],
   "source": [
    "fig, ax = plt.subplots(figsize=(7, 3))\n",
    "ax.hist(df_data['CreditScore'], range=(800, 850), bins=50, color='seagreen');\n",
    "ax.set_ylabel('Antal')\n",
    "ax.set_xlabel('CreditScore');"
   ]
  },
  {
   "cell_type": "code",
   "execution_count": 15,
   "metadata": {},
   "outputs": [
    {
     "data": {
      "image/png": "[encoded data removed]",
      "text/plain": [
       "<Figure size 864x288 with 2 Axes>"
      ]
     },
     "metadata": {
      "needs_background": "light"
     },
     "output_type": "display_data"
    }
   ],
   "source": [
    "fig, ax = plt.subplots(1, 2, figsize=(12, 4))\n",
    "plot_target_histogram(df_data[df_data['CreditScore'] < 850], ax[0])\n",
    "plot_target_histogram(df_data[df_data['CreditScore'] == 850], ax[1])\n",
    "ax[0].set_title('Personer med CreditScore < 850');\n",
    "ax[1].set_title('Personer med CreditScore = 850');"
   ]
  },
  {
   "cell_type": "markdown",
   "metadata": {},
   "source": [
    "Det lader ikke til at der er forskel i fordelingerne."
   ]
  },
  {
   "cell_type": "markdown",
   "metadata": {},
   "source": [
    "### Alder"
   ]
  },
  {
   "cell_type": "markdown",
   "metadata": {},
   "source": [
    "Det lader til at der er forskel i aldersfordeling mellem kunder og ikke-kunder. \n",
    "\n",
    "Kan muligvis udnyttes til at inddele kunder i forskellige aldersgruppe så en model har nemmere ved at adskille yngre og ændre kunder fra hinanden."
   ]
  },
  {
   "cell_type": "code",
   "execution_count": 16,
   "metadata": {},
   "outputs": [
    {
     "data": {
      "image/png": "[encoded data removed]",
      "text/plain": [
       "<Figure size 864x288 with 2 Axes>"
      ]
     },
     "metadata": {
      "needs_background": "light"
     },
     "output_type": "display_data"
    }
   ],
   "source": [
    "fig, ax = plt.subplots(1, 2, figsize=(12, 4))\n",
    "ax[0].hist(df_data[df_data['Churned'] == 0]['Age'], bins=15, color=plot_colors[0]);\n",
    "ax[1].hist(df_data[df_data['Churned'] == 1]['Age'], bins=15, color=plot_colors[1]);\n",
    "for i in range(2):\n",
    "    ax[i].set_xlabel('Alder')\n",
    "ax[0].set_title('Aldersfordeling Churned=0 (kunder)')\n",
    "ax[1].set_title('Aldersfordeling Churned=1 (ikke-kunder)')\n",
    "ax[0].set_ylabel('Antal');"
   ]
  },
  {
   "cell_type": "code",
   "execution_count": 17,
   "metadata": {},
   "outputs": [],
   "source": [
    "# df_data['AgeGroup'] = pd.cut(df_data['Age'], bins=15, right=False).astype(str)\n",
    "df_data['AgeGroup'] = pd.cut(df_data['Age'], bins=15, right=False).apply(lambda x: int(x.left))\n",
    "categorical_features.add('AgeGroup')"
   ]
  },
  {
   "cell_type": "code",
   "execution_count": 18,
   "metadata": {},
   "outputs": [
    {
     "data": {
      "image/png": "[encoded data removed]",
      "text/plain": [
       "<Figure size 1296x432 with 1 Axes>"
      ]
     },
     "metadata": {
      "needs_background": "light"
     },
     "output_type": "display_data"
    }
   ],
   "source": [
    "fig, ax = plt.subplots(figsize=(18, 6))\n",
    "plot_histogram(df_data.sort_values('AgeGroup'), 'AgeGroup', annotate=True, ax=ax)"
   ]
  },
  {
   "cell_type": "markdown",
   "metadata": {},
   "source": [
    "### Tenure"
   ]
  },
  {
   "cell_type": "markdown",
   "metadata": {},
   "source": [
    "Kunne måske laves om til en kategoriske feature."
   ]
  },
  {
   "cell_type": "code",
   "execution_count": 19,
   "metadata": {},
   "outputs": [
    {
     "data": {
      "image/png": "[encoded data removed]",
      "text/plain": [
       "<Figure size 864x432 with 1 Axes>"
      ]
     },
     "metadata": {
      "needs_background": "light"
     },
     "output_type": "display_data"
    }
   ],
   "source": [
    "plot_histogram(df_data, 'Tenure', annotate=True)"
   ]
  },
  {
   "cell_type": "markdown",
   "metadata": {},
   "source": [
    "### Balance"
   ]
  },
  {
   "cell_type": "code",
   "execution_count": 20,
   "metadata": {},
   "outputs": [
    {
     "data": {
      "image/png": "[encoded data removed]",
      "text/plain": [
       "<Figure size 864x360 with 1 Axes>"
      ]
     },
     "metadata": {
      "needs_background": "light"
     },
     "output_type": "display_data"
    }
   ],
   "source": [
    "plot_dual_histogram(df_data, 'Balance', bins=50)"
   ]
  },
  {
   "cell_type": "markdown",
   "metadata": {},
   "source": [
    "- Antager det er valuta er i euro. Max værdien €250.898 virker meget højt, men det er vel ikke unormalt.\n",
    "- Lidt underligt at kunder som har forladt banken har noget indstående. Antager at det er det beløb som tidligere kunder havde stående før de forlod banken\n",
    "- Andelen af kunder med formuer som forlader banken er større end dem med 0 i indstående.\n",
    "- Ide til ny feature: boolean feature om man har penge stående i banken"
   ]
  },
  {
   "cell_type": "code",
   "execution_count": 21,
   "metadata": {},
   "outputs": [
    {
     "data": {
      "image/png": "[encoded data removed]",
      "text/plain": [
       "<Figure size 864x288 with 2 Axes>"
      ]
     },
     "metadata": {
      "needs_background": "light"
     },
     "output_type": "display_data"
    }
   ],
   "source": [
    "fig, ax = plt.subplots(1, 2, figsize=(12, 4))\n",
    "threshold_value = 0\n",
    "plot_target_histogram(df_data[df_data['Balance'] == threshold_value], ax[0])\n",
    "plot_target_histogram(df_data[df_data['Balance'] > threshold_value], ax[1])\n",
    "ax[0].set_title('Personer med Balance = {}'.format(threshold_value));\n",
    "ax[1].set_title('Personer med Balance > {}'.format(threshold_value));"
   ]
  },
  {
   "cell_type": "code",
   "execution_count": 22,
   "metadata": {},
   "outputs": [],
   "source": [
    "df_data['HasAnyDeposit'] = df_data['Balance'].apply(lambda x: x > 0)\n",
    "categorical_features.add('HasAnyDeposit')"
   ]
  },
  {
   "cell_type": "code",
   "execution_count": 23,
   "metadata": {},
   "outputs": [
    {
     "data": {
      "image/png": "[encoded data removed]",
      "text/plain": [
       "<Figure size 864x432 with 1 Axes>"
      ]
     },
     "metadata": {
      "needs_background": "light"
     },
     "output_type": "display_data"
    }
   ],
   "source": [
    "plot_histogram(df_data, 'HasAnyDeposit', annotate=True)"
   ]
  },
  {
   "cell_type": "markdown",
   "metadata": {},
   "source": [
    "### Løn"
   ]
  },
  {
   "cell_type": "code",
   "execution_count": 24,
   "metadata": {},
   "outputs": [
    {
     "data": {
      "text/html": [
       "<style  type=\"text/css\" >\n",
       "</style><table id=\"T_50d34640_57be_11ea_9119_e0d55ea2d93c\" ><thead>    <tr>        <th class=\"blank level0\" ></th>        <th class=\"col_heading level0 col0\" >count</th>        <th class=\"col_heading level0 col1\" >mean</th>        <th class=\"col_heading level0 col2\" >std</th>        <th class=\"col_heading level0 col3\" >min</th>        <th class=\"col_heading level0 col4\" >25%</th>        <th class=\"col_heading level0 col5\" >50%</th>        <th class=\"col_heading level0 col6\" >75%</th>        <th class=\"col_heading level0 col7\" >max</th>    </tr></thead><tbody>\n",
       "                <tr>\n",
       "                        <th id=\"T_50d34640_57be_11ea_9119_e0d55ea2d93clevel0_row0\" class=\"row_heading level0 row0\" >Salary</th>\n",
       "                        <td id=\"T_50d34640_57be_11ea_9119_e0d55ea2d93crow0_col0\" class=\"data row0 col0\" >10,000</td>\n",
       "                        <td id=\"T_50d34640_57be_11ea_9119_e0d55ea2d93crow0_col1\" class=\"data row0 col1\" >100,090</td>\n",
       "                        <td id=\"T_50d34640_57be_11ea_9119_e0d55ea2d93crow0_col2\" class=\"data row0 col2\" >57,510</td>\n",
       "                        <td id=\"T_50d34640_57be_11ea_9119_e0d55ea2d93crow0_col3\" class=\"data row0 col3\" >12</td>\n",
       "                        <td id=\"T_50d34640_57be_11ea_9119_e0d55ea2d93crow0_col4\" class=\"data row0 col4\" >51,002</td>\n",
       "                        <td id=\"T_50d34640_57be_11ea_9119_e0d55ea2d93crow0_col5\" class=\"data row0 col5\" >100,194</td>\n",
       "                        <td id=\"T_50d34640_57be_11ea_9119_e0d55ea2d93crow0_col6\" class=\"data row0 col6\" >149,388</td>\n",
       "                        <td id=\"T_50d34640_57be_11ea_9119_e0d55ea2d93crow0_col7\" class=\"data row0 col7\" >199,992</td>\n",
       "            </tr>\n",
       "    </tbody></table>"
      ],
      "text/plain": [
       "<pandas.io.formats.style.Styler at 0x16644b3a948>"
      ]
     },
     "execution_count": 24,
     "metadata": {},
     "output_type": "execute_result"
    }
   ],
   "source": [
    "df_data[['Salary']].describe().T.style.format(\"{:,.0f}\")"
   ]
  },
  {
   "cell_type": "markdown",
   "metadata": {},
   "source": [
    "Værdierne virker pæne ud! Lad os kigge på fordelingen."
   ]
  },
  {
   "cell_type": "markdown",
   "metadata": {},
   "source": [
    "Denne feature har en uniform fordeling. Får et indtryk af at løn-værdierne er genereret tilfældigt."
   ]
  },
  {
   "cell_type": "code",
   "execution_count": 25,
   "metadata": {},
   "outputs": [
    {
     "data": {
      "image/png": "[encoded data removed]",
      "text/plain": [
       "<Figure size 576x288 with 1 Axes>"
      ]
     },
     "metadata": {
      "needs_background": "light"
     },
     "output_type": "display_data"
    }
   ],
   "source": [
    "fig, ax = plt.subplots(figsize=(8, 4))\n",
    "random_salary = np.random.uniform(low=0, high=200000, size=10000)\n",
    "sns.distplot(random_salary, hist=False, label='Tilfældig genereret værdier', color='red', ax=ax)\n",
    "sns.distplot(df_data['Salary'], hist=False, label='Løn værdierne i datasæt', color='blue', ax=ax);"
   ]
  },
  {
   "cell_type": "markdown",
   "metadata": {},
   "source": [
    "Noget tyder på at **Salary** er syntetisk. Måske er data genereret på baggrund af reelle data for at anonymsere det."
   ]
  },
  {
   "cell_type": "markdown",
   "metadata": {},
   "source": [
    "### Antal bankydelser (NumOfProducts)"
   ]
  },
  {
   "cell_type": "code",
   "execution_count": 26,
   "metadata": {},
   "outputs": [
    {
     "data": {
      "text/html": [
       "<style  type=\"text/css\" >\n",
       "</style><table id=\"T_50e8c92c_57be_11ea_b489_e0d55ea2d93c\" ><thead>    <tr>        <th class=\"blank level0\" ></th>        <th class=\"col_heading level0 col0\" >count</th>        <th class=\"col_heading level0 col1\" >mean</th>        <th class=\"col_heading level0 col2\" >std</th>        <th class=\"col_heading level0 col3\" >min</th>        <th class=\"col_heading level0 col4\" >25%</th>        <th class=\"col_heading level0 col5\" >50%</th>        <th class=\"col_heading level0 col6\" >75%</th>        <th class=\"col_heading level0 col7\" >max</th>    </tr></thead><tbody>\n",
       "                <tr>\n",
       "                        <th id=\"T_50e8c92c_57be_11ea_b489_e0d55ea2d93clevel0_row0\" class=\"row_heading level0 row0\" >NumOfProducts</th>\n",
       "                        <td id=\"T_50e8c92c_57be_11ea_b489_e0d55ea2d93crow0_col0\" class=\"data row0 col0\" >10,000</td>\n",
       "                        <td id=\"T_50e8c92c_57be_11ea_b489_e0d55ea2d93crow0_col1\" class=\"data row0 col1\" >2</td>\n",
       "                        <td id=\"T_50e8c92c_57be_11ea_b489_e0d55ea2d93crow0_col2\" class=\"data row0 col2\" >1</td>\n",
       "                        <td id=\"T_50e8c92c_57be_11ea_b489_e0d55ea2d93crow0_col3\" class=\"data row0 col3\" >1</td>\n",
       "                        <td id=\"T_50e8c92c_57be_11ea_b489_e0d55ea2d93crow0_col4\" class=\"data row0 col4\" >1</td>\n",
       "                        <td id=\"T_50e8c92c_57be_11ea_b489_e0d55ea2d93crow0_col5\" class=\"data row0 col5\" >1</td>\n",
       "                        <td id=\"T_50e8c92c_57be_11ea_b489_e0d55ea2d93crow0_col6\" class=\"data row0 col6\" >2</td>\n",
       "                        <td id=\"T_50e8c92c_57be_11ea_b489_e0d55ea2d93crow0_col7\" class=\"data row0 col7\" >4</td>\n",
       "            </tr>\n",
       "    </tbody></table>"
      ],
      "text/plain": [
       "<pandas.io.formats.style.Styler at 0x16644c1c208>"
      ]
     },
     "execution_count": 26,
     "metadata": {},
     "output_type": "execute_result"
    }
   ],
   "source": [
    "df_data[['NumOfProducts']].describe().T.style.format(\"{:,.0f}\")"
   ]
  },
  {
   "cell_type": "markdown",
   "metadata": {},
   "source": [
    "- 75% af kunderne har 2 eller 1 bankydelse tilknytter"
   ]
  },
  {
   "cell_type": "markdown",
   "metadata": {},
   "source": [
    "Lad os kigge på fordelingen."
   ]
  },
  {
   "cell_type": "code",
   "execution_count": 27,
   "metadata": {},
   "outputs": [
    {
     "data": {
      "image/png": "[encoded data removed]",
      "text/plain": [
       "<Figure size 864x432 with 1 Axes>"
      ]
     },
     "metadata": {
      "needs_background": "light"
     },
     "output_type": "display_data"
    }
   ],
   "source": [
    "plot_histogram(df_data, 'NumOfProducts')"
   ]
  },
  {
   "cell_type": "markdown",
   "metadata": {},
   "source": [
    "Observationer:\n",
    "- Ingen af de nuværende kunder har 4 produkter!\n",
    "- Hvis en kunde har 3 bankydelser så er der høj chance for at den kunde forlader butikken.\n",
    "- Høj signal i denne feature. Betragt den som en kategorisk feature."
   ]
  },
  {
   "cell_type": "code",
   "execution_count": 28,
   "metadata": {},
   "outputs": [],
   "source": [
    "continuous_features.remove('NumOfProducts')\n",
    "categorical_features.add('NumOfProducts')"
   ]
  },
  {
   "cell_type": "markdown",
   "metadata": {},
   "source": [
    "## Kategoriske felter"
   ]
  },
  {
   "cell_type": "markdown",
   "metadata": {},
   "source": [
    "### Lokation (Geography)"
   ]
  },
  {
   "cell_type": "code",
   "execution_count": 29,
   "metadata": {},
   "outputs": [
    {
     "data": {
      "text/html": [
       "<style  type=\"text/css\" >\n",
       "</style><table id=\"T_51041a54_57be_11ea_828a_e0d55ea2d93c\" ><thead>    <tr>        <th class=\"blank level0\" ></th>        <th class=\"col_heading level0 col0\" >France</th>        <th class=\"col_heading level0 col1\" >Germany</th>        <th class=\"col_heading level0 col2\" >Spain</th>    </tr></thead><tbody>\n",
       "                <tr>\n",
       "                        <th id=\"T_51041a54_57be_11ea_828a_e0d55ea2d93clevel0_row0\" class=\"row_heading level0 row0\" >Geography</th>\n",
       "                        <td id=\"T_51041a54_57be_11ea_828a_e0d55ea2d93crow0_col0\" class=\"data row0 col0\" >5,014.0</td>\n",
       "                        <td id=\"T_51041a54_57be_11ea_828a_e0d55ea2d93crow0_col1\" class=\"data row0 col1\" >2,509.0</td>\n",
       "                        <td id=\"T_51041a54_57be_11ea_828a_e0d55ea2d93crow0_col2\" class=\"data row0 col2\" >2,477.0</td>\n",
       "            </tr>\n",
       "            <tr>\n",
       "                        <th id=\"T_51041a54_57be_11ea_828a_e0d55ea2d93clevel0_row1\" class=\"row_heading level0 row1\" >Proportion</th>\n",
       "                        <td id=\"T_51041a54_57be_11ea_828a_e0d55ea2d93crow1_col0\" class=\"data row1 col0\" >50.1</td>\n",
       "                        <td id=\"T_51041a54_57be_11ea_828a_e0d55ea2d93crow1_col1\" class=\"data row1 col1\" >25.1</td>\n",
       "                        <td id=\"T_51041a54_57be_11ea_828a_e0d55ea2d93crow1_col2\" class=\"data row1 col2\" >24.8</td>\n",
       "            </tr>\n",
       "    </tbody></table>"
      ],
      "text/plain": [
       "<pandas.io.formats.style.Styler at 0x16643d55f88>"
      ]
     },
     "execution_count": 29,
     "metadata": {},
     "output_type": "execute_result"
    }
   ],
   "source": [
    "get_counts(df_data, 'Geography')"
   ]
  },
  {
   "cell_type": "code",
   "execution_count": 30,
   "metadata": {},
   "outputs": [
    {
     "data": {
      "image/png": "[encoded data removed]",
      "text/plain": [
       "<Figure size 864x432 with 1 Axes>"
      ]
     },
     "metadata": {
      "needs_background": "light"
     },
     "output_type": "display_data"
    }
   ],
   "source": [
    "plot_histogram(df_data, 'Geography', annotate=True)"
   ]
  },
  {
   "cell_type": "markdown",
   "metadata": {},
   "source": [
    "- Halvdelen af personer er fra Frankrig. Ca 25% fra Tyskland og resterende fra Spanien.\n",
    "- Andelen af kunder og ikke-kunder er nogenlunde det samme i Frankrig og Tyskland\n",
    "- I Spanien er der en relativ høj andel af ikke-kunder ifht. kunder."
   ]
  },
  {
   "cell_type": "markdown",
   "metadata": {},
   "source": [
    "### Køn (Gender)"
   ]
  },
  {
   "cell_type": "code",
   "execution_count": 31,
   "metadata": {},
   "outputs": [
    {
     "data": {
      "text/html": [
       "<style  type=\"text/css\" >\n",
       "</style><table id=\"T_511d46b0_57be_11ea_9d6a_e0d55ea2d93c\" ><thead>    <tr>        <th class=\"blank level0\" ></th>        <th class=\"col_heading level0 col0\" >Male</th>        <th class=\"col_heading level0 col1\" >Female</th>    </tr></thead><tbody>\n",
       "                <tr>\n",
       "                        <th id=\"T_511d46b0_57be_11ea_9d6a_e0d55ea2d93clevel0_row0\" class=\"row_heading level0 row0\" >Gender</th>\n",
       "                        <td id=\"T_511d46b0_57be_11ea_9d6a_e0d55ea2d93crow0_col0\" class=\"data row0 col0\" >5,457.0</td>\n",
       "                        <td id=\"T_511d46b0_57be_11ea_9d6a_e0d55ea2d93crow0_col1\" class=\"data row0 col1\" >4,543.0</td>\n",
       "            </tr>\n",
       "            <tr>\n",
       "                        <th id=\"T_511d46b0_57be_11ea_9d6a_e0d55ea2d93clevel0_row1\" class=\"row_heading level0 row1\" >Proportion</th>\n",
       "                        <td id=\"T_511d46b0_57be_11ea_9d6a_e0d55ea2d93crow1_col0\" class=\"data row1 col0\" >54.6</td>\n",
       "                        <td id=\"T_511d46b0_57be_11ea_9d6a_e0d55ea2d93crow1_col1\" class=\"data row1 col1\" >45.4</td>\n",
       "            </tr>\n",
       "    </tbody></table>"
      ],
      "text/plain": [
       "<pandas.io.formats.style.Styler at 0x16644c6bf48>"
      ]
     },
     "execution_count": 31,
     "metadata": {},
     "output_type": "execute_result"
    }
   ],
   "source": [
    "get_counts(df_data, 'Gender')"
   ]
  },
  {
   "cell_type": "code",
   "execution_count": 32,
   "metadata": {},
   "outputs": [
    {
     "data": {
      "image/png": "[encoded data removed]",
      "text/plain": [
       "<Figure size 864x432 with 1 Axes>"
      ]
     },
     "metadata": {
      "needs_background": "light"
     },
     "output_type": "display_data"
    }
   ],
   "source": [
    "plot_histogram(df_data, 'Gender', annotate=True)"
   ]
  },
  {
   "cell_type": "markdown",
   "metadata": {},
   "source": [
    "- Ca. 55% mænd og 45% kvinder\n",
    "- En lidt højere andel af kvindelige kunder forlader banken."
   ]
  },
  {
   "cell_type": "markdown",
   "metadata": {},
   "source": [
    "### Har kredit kort (HasCreditCard)"
   ]
  },
  {
   "cell_type": "code",
   "execution_count": 33,
   "metadata": {},
   "outputs": [
    {
     "data": {
      "text/html": [
       "<style  type=\"text/css\" >\n",
       "</style><table id=\"T_5132073a_57be_11ea_a6a2_e0d55ea2d93c\" ><thead>    <tr>        <th class=\"blank level0\" ></th>        <th class=\"col_heading level0 col0\" >1</th>        <th class=\"col_heading level0 col1\" >0</th>    </tr></thead><tbody>\n",
       "                <tr>\n",
       "                        <th id=\"T_5132073a_57be_11ea_a6a2_e0d55ea2d93clevel0_row0\" class=\"row_heading level0 row0\" >HasCreditCard</th>\n",
       "                        <td id=\"T_5132073a_57be_11ea_a6a2_e0d55ea2d93crow0_col0\" class=\"data row0 col0\" >7,055.0</td>\n",
       "                        <td id=\"T_5132073a_57be_11ea_a6a2_e0d55ea2d93crow0_col1\" class=\"data row0 col1\" >2,945.0</td>\n",
       "            </tr>\n",
       "            <tr>\n",
       "                        <th id=\"T_5132073a_57be_11ea_a6a2_e0d55ea2d93clevel0_row1\" class=\"row_heading level0 row1\" >Proportion</th>\n",
       "                        <td id=\"T_5132073a_57be_11ea_a6a2_e0d55ea2d93crow1_col0\" class=\"data row1 col0\" >70.5</td>\n",
       "                        <td id=\"T_5132073a_57be_11ea_a6a2_e0d55ea2d93crow1_col1\" class=\"data row1 col1\" >29.4</td>\n",
       "            </tr>\n",
       "    </tbody></table>"
      ],
      "text/plain": [
       "<pandas.io.formats.style.Styler at 0x16644355d48>"
      ]
     },
     "execution_count": 33,
     "metadata": {},
     "output_type": "execute_result"
    }
   ],
   "source": [
    "get_counts(df_data, 'HasCreditCard')"
   ]
  },
  {
   "cell_type": "code",
   "execution_count": 34,
   "metadata": {},
   "outputs": [
    {
     "data": {
      "image/png": "[encoded data removed]",
      "text/plain": [
       "<Figure size 864x432 with 1 Axes>"
      ]
     },
     "metadata": {
      "needs_background": "light"
     },
     "output_type": "display_data"
    }
   ],
   "source": [
    "plot_histogram(df_data, 'HasCreditCard', annotate=True)"
   ]
  },
  {
   "cell_type": "markdown",
   "metadata": {},
   "source": [
    "- Ca. 71% af personerne har (haft) kreditkort\n",
    "- Nogenlunde samme fordeling i de to klasser"
   ]
  },
  {
   "cell_type": "markdown",
   "metadata": {},
   "source": [
    "### Er aktiv (IsActiveMember)"
   ]
  },
  {
   "cell_type": "code",
   "execution_count": 35,
   "metadata": {},
   "outputs": [
    {
     "data": {
      "text/html": [
       "<style  type=\"text/css\" >\n",
       "</style><table id=\"T_514c9440_57be_11ea_a9c7_e0d55ea2d93c\" ><thead>    <tr>        <th class=\"blank level0\" ></th>        <th class=\"col_heading level0 col0\" >1</th>        <th class=\"col_heading level0 col1\" >0</th>    </tr></thead><tbody>\n",
       "                <tr>\n",
       "                        <th id=\"T_514c9440_57be_11ea_a9c7_e0d55ea2d93clevel0_row0\" class=\"row_heading level0 row0\" >IsActiveMember</th>\n",
       "                        <td id=\"T_514c9440_57be_11ea_a9c7_e0d55ea2d93crow0_col0\" class=\"data row0 col0\" >5,151.0</td>\n",
       "                        <td id=\"T_514c9440_57be_11ea_a9c7_e0d55ea2d93crow0_col1\" class=\"data row0 col1\" >4,849.0</td>\n",
       "            </tr>\n",
       "            <tr>\n",
       "                        <th id=\"T_514c9440_57be_11ea_a9c7_e0d55ea2d93clevel0_row1\" class=\"row_heading level0 row1\" >Proportion</th>\n",
       "                        <td id=\"T_514c9440_57be_11ea_a9c7_e0d55ea2d93crow1_col0\" class=\"data row1 col0\" >51.5</td>\n",
       "                        <td id=\"T_514c9440_57be_11ea_a9c7_e0d55ea2d93crow1_col1\" class=\"data row1 col1\" >48.5</td>\n",
       "            </tr>\n",
       "    </tbody></table>"
      ],
      "text/plain": [
       "<pandas.io.formats.style.Styler at 0x16644c43c48>"
      ]
     },
     "execution_count": 35,
     "metadata": {},
     "output_type": "execute_result"
    }
   ],
   "source": [
    "get_counts(df_data, 'IsActiveMember')"
   ]
  },
  {
   "cell_type": "code",
   "execution_count": 36,
   "metadata": {},
   "outputs": [
    {
     "data": {
      "image/png": "[encoded data removed]",
      "text/plain": [
       "<Figure size 864x432 with 1 Axes>"
      ]
     },
     "metadata": {
      "needs_background": "light"
     },
     "output_type": "display_data"
    }
   ],
   "source": [
    "plot_histogram(df_data, 'IsActiveMember', annotate=True)"
   ]
  },
  {
   "cell_type": "markdown",
   "metadata": {},
   "source": [
    "- Ca. 52% af personerne er aktive (hvad end det betyder)\n",
    "- Højere andel af ikke-aktive kunder forlader banken"
   ]
  },
  {
   "cell_type": "markdown",
   "metadata": {},
   "source": [
    "### Target feature (Churned)"
   ]
  },
  {
   "cell_type": "markdown",
   "metadata": {},
   "source": [
    "Vi har tidligere set at datasættet er ubalaceret. Lad os kigge på hvor stor er ubalancen."
   ]
  },
  {
   "cell_type": "code",
   "execution_count": 37,
   "metadata": {},
   "outputs": [
    {
     "data": {
      "image/png": "[encoded data removed]",
      "text/plain": [
       "<Figure size 504x288 with 1 Axes>"
      ]
     },
     "metadata": {
      "needs_background": "light"
     },
     "output_type": "display_data"
    }
   ],
   "source": [
    "plot_target_histogram(df_data);"
   ]
  },
  {
   "cell_type": "markdown",
   "metadata": {},
   "source": [
    "Fordelingen er 1:4. Vi kan ikke bruge accuracy. Vi skal bruge F1 score og ROC area under curve."
   ]
  },
  {
   "cell_type": "markdown",
   "metadata": {},
   "source": [
    "Der er to udfordringer som vi skal løst:\n",
    "1. ubalanceret data øger risikoen for at vores model performer dårlig fordi den bliver biased mod den store klasse dvs. minoritetsklassen bliver modeleret mindre godt\n",
    "2. omkostningen ved at prædiktere forkert på kunder der er ved at forlade banken er højere end en forkert prediktion i den omvendte situation\n",
    "   - hvis modellen prædikterer at en kunde vil blive mens kunden er på vej ud så er det en større fejl end hvis modellen prædiktere at en kunde er på vej ud men i virkligheden vil kunden slet ikke nogen steder\n",
    "   - derfor skal modellen ikke lave type fejl"
   ]
  },
  {
   "cell_type": "markdown",
   "metadata": {},
   "source": [
    "Det er nok mere interessant at studere kunder, der er på vej væk.\n"
   ]
  },
  {
   "cell_type": "markdown",
   "metadata": {},
   "source": [
    "## Klargøring af data"
   ]
  },
  {
   "cell_type": "code",
   "execution_count": 38,
   "metadata": {},
   "outputs": [],
   "source": [
    "from sklearn.preprocessing import OneHotEncoder"
   ]
  },
  {
   "cell_type": "code",
   "execution_count": 39,
   "metadata": {},
   "outputs": [],
   "source": [
    "y = np.array(df_data[['Churned']])"
   ]
  },
  {
   "cell_type": "code",
   "execution_count": 40,
   "metadata": {},
   "outputs": [
    {
     "data": {
      "text/plain": [
       "array([[1],\n",
       "       [0],\n",
       "       [1],\n",
       "       ...,\n",
       "       [1],\n",
       "       [1],\n",
       "       [0]], dtype=int64)"
      ]
     },
     "execution_count": 40,
     "metadata": {},
     "output_type": "execute_result"
    }
   ],
   "source": [
    "y"
   ]
  },
  {
   "cell_type": "code",
   "execution_count": null,
   "metadata": {},
   "outputs": [],
   "source": [
    "X = df_data.copy()[boolean_features + continuous_features]\n",
    "X = pd.concat([X, pd.get_dummies(df_data[categorical_features])], axis=1)"
   ]
  },
  {
   "cell_type": "code",
   "execution_count": null,
   "metadata": {},
   "outputs": [],
   "source": [
    "X.head()"
   ]
  },
  {
   "cell_type": "code",
   "execution_count": null,
   "metadata": {},
   "outputs": [],
   "source": []
  },
  {
   "cell_type": "code",
   "execution_count": null,
   "metadata": {},
   "outputs": [],
   "source": [
    "scaler = StandardScaler()"
   ]
  },
  {
   "cell_type": "markdown",
   "metadata": {},
   "source": [
    "Mange ML modeller kræver at features er normaliseret eller skaleret. Der er forskellige feature skaleringer:\n",
    "- [StandardScaler](https://scikit-learn.org/stable/modules/generated/sklearn.preprocessing.StandardScaler.html): er godt hvis man ens feature er normalt fordelt\n",
    "- \n",
    "- [RobustScaler](https://scikit-learn.org/stable/modules/preprocessing.html#scaling-data-with-outliers): når data indeholder mange outliers"
   ]
  },
  {
   "cell_type": "code",
   "execution_count": null,
   "metadata": {},
   "outputs": [],
   "source": [
    "sns.distplot(X['CreditScore'])"
   ]
  },
  {
   "cell_type": "code",
   "execution_count": null,
   "metadata": {},
   "outputs": [],
   "source": [
    "scaler.fit_transform(X['CreditScore'].values.reshape(-1, 1))"
   ]
  },
  {
   "cell_type": "code",
   "execution_count": null,
   "metadata": {},
   "outputs": [],
   "source": [
    "sns.distplot(X['Age'])"
   ]
  },
  {
   "cell_type": "code",
   "execution_count": null,
   "metadata": {},
   "outputs": [],
   "source": [
    "scaler.fit_transform(X['Age'].values.reshape(-1, 1))"
   ]
  },
  {
   "cell_type": "code",
   "execution_count": null,
   "metadata": {},
   "outputs": [],
   "source": [
    "sns.distplot(X['Balance'])"
   ]
  },
  {
   "cell_type": "code",
   "execution_count": null,
   "metadata": {},
   "outputs": [],
   "source": [
    "sns.distplot(scaler.fit_transform(X['Balance'].values.reshape(-1, 1)))"
   ]
  },
  {
   "cell_type": "code",
   "execution_count": null,
   "metadata": {},
   "outputs": [],
   "source": [
    "sns.distplot(X['NumOfProducts'])"
   ]
  },
  {
   "cell_type": "code",
   "execution_count": null,
   "metadata": {},
   "outputs": [],
   "source": [
    "sns.distplot(X['Salary'])"
   ]
  },
  {
   "cell_type": "markdown",
   "metadata": {},
   "source": [
    "### Hvorfor skifter man bank?"
   ]
  },
  {
   "cell_type": "markdown",
   "metadata": {},
   "source": [
    "Mybankers [bankundersøgelse](https://www.mybanker.dk/artikler/hver-fjerde-dansker-har-skiftet-bank-de-seneste-5-aar/) i 2018 viser flg.:"
   ]
  },
  {
   "cell_type": "markdown",
   "metadata": {},
   "source": [
    "| Årsager til ikke at skifte bank (flere svar) | %   |\n",
    "|----------------------------------------------|-----|\n",
    "| Tror ikke bedre vilkår er muligt             | 70% |\n",
    "| Det kræver meget tid og energi               | 34% |\n",
    "| Ny netbank, dankort, kode og kontonumre      | 33% |\n",
    "| Ny rådgiver                                  | 17% |\n",
    "| Mange omkostninger                           | 12% |\n",
    "| At det er for kompliceret                    | 11% |\n",
    "| Går bag om ryggen på nuværende bank          | 2%  |"
   ]
  },
  {
   "cell_type": "markdown",
   "metadata": {},
   "source": [
    "| Årsag til overvejet bankskifte  | %   |\n",
    "|---------------------------------|-----|\n",
    "| Priser / Gebyrer / Renter       | 65% |\n",
    "| Rådgivning - Kvalitet           | 29% |\n",
    "| Værdier                         | 19% |\n",
    "| Lokale filialer                 | 14% |\n",
    "| Kemi med personalet             | 11% |\n",
    "| Service                         | 10% |\n",
    "| Teknologi - netbank / mobilbank | 7%  |"
   ]
  },
  {
   "cell_type": "markdown",
   "metadata": {},
   "source": [
    "3052 besvarelser indsamlet feb 2018 til apr 2018 (3 mdr). Indsamlet Mybankers sociale mediekanaler og abonnenter af Mybankers nyhedsbrev. Kun 19 banker indgår i analysen."
   ]
  },
  {
   "cell_type": "markdown",
   "metadata": {},
   "source": [
    "## Andre data som kunne være relevant?"
   ]
  },
  {
   "cell_type": "markdown",
   "metadata": {},
   "source": [
    "- Dataene er en snapshot. Hvad betyder det?\n",
    "- Transkationer så i stedet for `IsActiveMember` så kan man måske grader hvor aktiv kunden er. Det kunne give mere information\n",
    "- Istedet for `NumOfProducts` hvilke produkter har kunderne købt  kunne give mere information \n",
    "- Kunder som ikke exited men som stadig har noget stående på deres konti.\n",
    "- Mangler noget kontekst for dataene. Hvordan dataene er trukket ud og konteks omkring data kunne gøre man har en bedre forståelse for hvordan man skal lave modeller."
   ]
  },
  {
   "cell_type": "code",
   "execution_count": null,
   "metadata": {},
   "outputs": [],
   "source": []
  }
 ],
 "metadata": {
  "kernelspec": {
   "display_name": "Python 3",
   "language": "python",
   "name": "python3"
  },
  "language_info": {
   "codemirror_mode": {
    "name": "ipython",
    "version": 3
   },
   "file_extension": ".py",
   "mimetype": "text/x-python",
   "name": "python",
   "nbconvert_exporter": "python",
   "pygments_lexer": "ipython3",
   "version": "3.7.6"
  }
 },
 "nbformat": 4,
 "nbformat_minor": 4
}
